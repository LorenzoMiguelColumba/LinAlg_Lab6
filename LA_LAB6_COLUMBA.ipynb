{
  "nbformat": 4,
  "nbformat_minor": 0,
  "metadata": {
    "kernelspec": {
      "display_name": "Python 3",
      "language": "python",
      "name": "python3"
    },
    "language_info": {
      "codemirror_mode": {
        "name": "ipython",
        "version": 3
      },
      "file_extension": ".py",
      "mimetype": "text/x-python",
      "name": "python",
      "nbconvert_exporter": "python",
      "pygments_lexer": "ipython3",
      "version": "3.8.3"
    },
    "colab": {
      "name": "LA_LAB6_COLUMBA.ipynb",
      "provenance": [],
      "collapsed_sections": [
        "8YWHd1F2Fihe",
        "vczuBqkhFihe",
        "3jzPQ8yYFihe",
        "bDXprSFYFihf",
        "eD7Qo6k0Fihf",
        "QO6DJ1rnFihf",
        "oN_Gpls7Fihf",
        "2O8_R2xVFihf",
        "kSyuv3uaFihg",
        "HKJo9zpKFihg",
        "RXwgcbl_Fihg",
        "VwRPcCZSFihh"
      ]
    }
  },
  "cells": [
    {
      "cell_type": "markdown",
      "metadata": {
        "id": "pBc59b2yFiha"
      },
      "source": [
        "# Linear Algebra for CpE\n",
        "## Laboratory 6 : Matrices\n",
        "##Columba,Lorenzo Miguel L.\n",
        "###201812564"
      ]
    },
    {
      "cell_type": "markdown",
      "metadata": {
        "id": "DQXuDO7EFihb"
      },
      "source": [
        "Now that you have a fundamental knowledge about vector representations, we'll try to look into greater dimensions."
      ]
    },
    {
      "cell_type": "markdown",
      "metadata": {
        "id": "1fwl8_3vFihb"
      },
      "source": [
        "### Objectives\n",
        "At the end of this activity you will be able to:\n",
        "1. Be familiar with matrices and their relation to linear equations.\n",
        "2. Perform basic matrix operations.\n",
        "3. Program and translate matrix equations and operations using Python."
      ]
    },
    {
      "cell_type": "markdown",
      "metadata": {
        "id": "YVkC2200Fihb"
      },
      "source": [
        "# Discussion"
      ]
    },
    {
      "cell_type": "code",
      "metadata": {
        "id": "KoeqkddLFihc"
      },
      "source": [
        "import numpy as np\n",
        "import matplotlib.pyplot as plt\n",
        "import scipy.linalg as la\n",
        "%matplotlib inline"
      ],
      "execution_count": null,
      "outputs": []
    },
    {
      "cell_type": "markdown",
      "metadata": {
        "id": "6EUGY3SvFihc"
      },
      "source": [
        "### Matrices"
      ]
    },
    {
      "cell_type": "markdown",
      "metadata": {
        "id": "8vtC1bZJFihc"
      },
      "source": [
        "The notation and use of matrices is probably one of the fundamentals of modern computing. Matrices are also handy representations of complex equations or multiple inter-related equations from 2-dimensional equations to even hundreds and thousands of them."
      ]
    },
    {
      "cell_type": "markdown",
      "metadata": {
        "id": "gaRVxXG0Fihc"
      },
      "source": [
        "Let's say for example you have $A$ and $B$ as system of equation."
      ]
    },
    {
      "cell_type": "markdown",
      "metadata": {
        "id": "xG9i0Ut-Fihc"
      },
      "source": [
        "$$\n",
        "A = \\left\\{\n",
        "    \\begin{array}\\\\\n",
        "        x + y \\\\ \n",
        "        4x - 10y\n",
        "    \\end{array}\n",
        "\\right. \\\\\n",
        "B = \\left\\{\n",
        "    \\begin{array}\\\\\n",
        "        x+y+z \\\\ \n",
        "        3x -2y -z \\\\\n",
        "        -x + 4y +2z\n",
        "    \\end{array}\n",
        "\\right. $$"
      ]
    },
    {
      "cell_type": "markdown",
      "metadata": {
        "id": "_M23BK5jFihc"
      },
      "source": [
        "We could see that $A$ is a system of 2 equations with 2 parameters. While $B$ is a system of 3 equations with 3 parameters. We can represent them as matrices as:"
      ]
    },
    {
      "cell_type": "markdown",
      "metadata": {
        "id": "rVwHfPrVFihc"
      },
      "source": [
        "$$\n",
        "A=\\begin{bmatrix} 1 & 1 \\\\ 4 & {-10}\\end{bmatrix} \\\\\n",
        "B=\\begin{bmatrix} 1 & 1 & 1 \\\\ 3 & -2 & -1 \\\\ -1 & 4 & 2\\end{bmatrix}\n",
        "$$"
      ]
    },
    {
      "cell_type": "markdown",
      "metadata": {
        "id": "Hr2xpGPjFihc"
      },
      "source": [
        "So assuming that you already discussed the fundamental representation of matrices, their types, and operations. We'll proceed in doing them in here in Python."
      ]
    },
    {
      "cell_type": "markdown",
      "metadata": {
        "id": "R6E9AQtUFihc"
      },
      "source": [
        "### Declaring Matrices"
      ]
    },
    {
      "cell_type": "markdown",
      "metadata": {
        "id": "ct2ceJIFFihc"
      },
      "source": [
        "Just like our previous laboratory activity, we'll represent system of linear equations as a matrix. The entities or numbers in matrices are called the elements of a matrix. These elements are arranged and ordered in rows and columns which form the list/array-like structure of matrices. And just like arrays, these elements are indexed according to their position with respect to their rows and columns. This can be reprsented just like the equation below. Whereas $A$ is a matrix consisting of elements denoted by $a_{i,j}$. Denoted by $i$ is the number of rows in the matrix while $j$ stands for the number of columns.<br>\n",
        "Do note that the $size$ of a matrix is $i\\times j$."
      ]
    },
    {
      "cell_type": "markdown",
      "metadata": {
        "id": "i9RKcbqTFihc"
      },
      "source": [
        "$$A=\\begin{bmatrix}\n",
        "a_{(0,0)}&a_{(0,1)}&\\dots&a_{(0,j-1)}\\\\\n",
        "a_{(1,0)}&a_{(1,1)}&\\dots&a_{(1,j-1)}\\\\\n",
        "\\vdots&\\vdots&\\ddots&\\vdots&\\\\\n",
        "a_{(i-1,0)}&a_{(i-1,1)}&\\dots&a_{(i-1,j-1)}\n",
        "\\end{bmatrix}\n",
        "$$"
      ]
    },
    {
      "cell_type": "markdown",
      "metadata": {
        "id": "mOvzTC35Fihc"
      },
      "source": [
        "We already gone over some of the types of matrices as vectors but we'll further discuss them in this laboratory activity. Since you already know how to describe vectors using <b>shape</b>, <b>dimensions</b> and <b>size</b> attributes, we'll use them to analyze these matrices."
      ]
    },
    {
      "cell_type": "code",
      "metadata": {
        "id": "RsAtZBVpFihc"
      },
      "source": [
        "## Since we'll keep on describing matrices. Let's make a function.\n",
        "def describe_mat(matrix):\n",
        "    print(f'Matrix:\\n{matrix}\\n\\nShape:\\t{matrix.shape}\\nRank:\\t{matrix.ndim}\\n')"
      ],
      "execution_count": null,
      "outputs": []
    },
    {
      "cell_type": "code",
      "metadata": {
        "id": "e914GyF6Fihc",
        "outputId": "f780c214-2fe0-44b4-c43b-f1dfe8ca1a42"
      },
      "source": [
        "## Declaring a 2 x 2 matrix\n",
        "A = np.array([\n",
        "    [1, 2],\n",
        "    [3, 1]\n",
        "])\n",
        "describe_mat(A)"
      ],
      "execution_count": null,
      "outputs": [
        {
          "output_type": "stream",
          "text": [
            "Matrix:\n",
            "[[1 2]\n",
            " [3 1]]\n",
            "\n",
            "Shape:\t(2, 2)\n",
            "Rank:\t2\n",
            "\n"
          ],
          "name": "stdout"
        }
      ]
    },
    {
      "cell_type": "code",
      "metadata": {
        "id": "DQa2Svb2Fihe",
        "outputId": "acf3f647-8add-43c6-d670-98075e8f3feb"
      },
      "source": [
        "G = np.array([\n",
        "    [1,1],\n",
        "    [2,2]\n",
        "])\n",
        "describe_mat(G)"
      ],
      "execution_count": null,
      "outputs": [
        {
          "output_type": "stream",
          "text": [
            "Matrix:\n",
            "[[1 1]\n",
            " [2 2]]\n",
            "\n",
            "Shape:\t(2, 2)\n",
            "Rank:\t2\n",
            "\n"
          ],
          "name": "stdout"
        }
      ]
    },
    {
      "cell_type": "code",
      "metadata": {
        "id": "esrVf29VFihe",
        "outputId": "41609a54-8f61-48a8-de65-36fae7d3bea2"
      },
      "source": [
        "## Declaring a 3 x 2 matrix\n",
        "B = np.array([\n",
        "    [8, 2],\n",
        "    [5, 4],\n",
        "    [1, 1]\n",
        "])\n",
        "describe_mat(B)"
      ],
      "execution_count": null,
      "outputs": [
        {
          "output_type": "stream",
          "text": [
            "Matrix:\n",
            "[[8 2]\n",
            " [5 4]\n",
            " [1 1]]\n",
            "\n",
            "Shape:\t(3, 2)\n",
            "Rank:\t2\n",
            "\n"
          ],
          "name": "stdout"
        }
      ]
    },
    {
      "cell_type": "code",
      "metadata": {
        "id": "Mu5gI0y7Fihe",
        "outputId": "dd01b614-d6d4-46d8-964a-5295bce697e3"
      },
      "source": [
        "H = np.array([1,2,3,4,5])\n",
        "describe_mat(H)"
      ],
      "execution_count": null,
      "outputs": [
        {
          "output_type": "stream",
          "text": [
            "Matrix:\n",
            "[1 2 3 4 5]\n",
            "\n",
            "Shape:\t(5,)\n",
            "Rank:\t1\n",
            "\n"
          ],
          "name": "stdout"
        }
      ]
    },
    {
      "cell_type": "markdown",
      "metadata": {
        "id": "lc4MwIAtFihe"
      },
      "source": [
        "## Categorizing Matrices"
      ]
    },
    {
      "cell_type": "markdown",
      "metadata": {
        "id": "AJF2HGKsFihe"
      },
      "source": [
        "There are several ways of classifying matrices. Once could be according to their <b>shape</b> and another is according to their <b>element values</b>. We'll try to go through them."
      ]
    },
    {
      "cell_type": "markdown",
      "metadata": {
        "id": "8YWHd1F2Fihe"
      },
      "source": [
        "### According to shape"
      ]
    },
    {
      "cell_type": "markdown",
      "metadata": {
        "id": "vczuBqkhFihe"
      },
      "source": [
        "#### Row and Column Matrices"
      ]
    },
    {
      "cell_type": "markdown",
      "metadata": {
        "id": "Yhw7C8kTFihe"
      },
      "source": [
        "Row and column matrices are common in vector and matrix computations. They can also represent row and column spaces of a bigger vector space. Row and column matrices are represented by a single column or single row. So with that being, the shape of row matrices would be $1 \\times j$ and column matrices would be $i \\times 1$."
      ]
    },
    {
      "cell_type": "code",
      "metadata": {
        "id": "lMVishJDFihe",
        "outputId": "63ccaf65-4f40-4cc7-dc37-abe91cb7fac8"
      },
      "source": [
        "## Declaring a Row Matrix\n",
        "\n",
        "row_mat_1D = np.array([\n",
        "    1, 3, 2\n",
        "]) ## this is a 1-D Matrix with a shape of (3,), it's not really considered as a row matrix.\n",
        "row_mat_2D = np.array([\n",
        "    [1,2,3]\n",
        "]) ## this is a 2-D Matrix with a shape of (1,3)\n",
        "describe_mat(row_mat_1D)\n",
        "describe_mat(row_mat_2D)"
      ],
      "execution_count": null,
      "outputs": [
        {
          "output_type": "stream",
          "text": [
            "Matrix:\n",
            "[1 3 2]\n",
            "\n",
            "Shape:\t(3,)\n",
            "Rank:\t1\n",
            "\n",
            "Matrix:\n",
            "[[1 2 3]]\n",
            "\n",
            "Shape:\t(1, 3)\n",
            "Rank:\t2\n",
            "\n"
          ],
          "name": "stdout"
        }
      ]
    },
    {
      "cell_type": "code",
      "metadata": {
        "id": "2qdWGiU-Fihe",
        "outputId": "5ff1cad4-b3b3-41c6-94ef-bcacb6abf894"
      },
      "source": [
        "## Declaring a Column Matrix\n",
        "\n",
        "col_mat = np.array([\n",
        "    [1],\n",
        "    [2],\n",
        "    [5]\n",
        "]) ## this is a 2-D Matrix with a shape of (3,1)\n",
        "describe_mat(col_mat)"
      ],
      "execution_count": null,
      "outputs": [
        {
          "output_type": "stream",
          "text": [
            "Matrix:\n",
            "[[1]\n",
            " [2]\n",
            " [5]]\n",
            "\n",
            "Shape:\t(3, 1)\n",
            "Rank:\t2\n",
            "\n"
          ],
          "name": "stdout"
        }
      ]
    },
    {
      "cell_type": "markdown",
      "metadata": {
        "id": "3jzPQ8yYFihe"
      },
      "source": [
        "#### Square Matrices"
      ]
    },
    {
      "cell_type": "markdown",
      "metadata": {
        "id": "pwH8UUM-Fihe"
      },
      "source": [
        "Square matrices are matrices that have the same row and column sizes. We could say a matrix is square if $i = j$. We can tweak our matrix descriptor function to determine square matrices."
      ]
    },
    {
      "cell_type": "code",
      "metadata": {
        "id": "Eiq6QbZ5Fihe"
      },
      "source": [
        "def describe_mat(matrix):\n",
        "    is_square = True if matrix.shape[0] == matrix.shape[1] else False \n",
        "    print(f'Matrix:\\n{matrix}\\n\\nShape:\\t{matrix.shape}\\nRank:\\t{matrix.ndim}\\nIs Square: {is_square}\\n')"
      ],
      "execution_count": null,
      "outputs": []
    },
    {
      "cell_type": "code",
      "metadata": {
        "id": "gX5wW8TVFihe",
        "outputId": "f3338592-517a-4a59-f258-7ccf1947c991"
      },
      "source": [
        "square_mat = np.array([\n",
        "    [1,2,5],\n",
        "    [3,3,8],\n",
        "    [6,1,2]\n",
        "])\n",
        "\n",
        "non_square_mat = np.array([\n",
        "    [1,2,5],\n",
        "    [3,3,8]\n",
        "])\n",
        "describe_mat(square_mat)\n",
        "describe_mat(non_square_mat)"
      ],
      "execution_count": null,
      "outputs": [
        {
          "output_type": "stream",
          "text": [
            "Matrix:\n",
            "[[1 2 5]\n",
            " [3 3 8]\n",
            " [6 1 2]]\n",
            "\n",
            "Shape:\t(3, 3)\n",
            "Rank:\t2\n",
            "Is Square: True\n",
            "\n",
            "Matrix:\n",
            "[[1 2 5]\n",
            " [3 3 8]]\n",
            "\n",
            "Shape:\t(2, 3)\n",
            "Rank:\t2\n",
            "Is Square: False\n",
            "\n"
          ],
          "name": "stdout"
        }
      ]
    },
    {
      "cell_type": "markdown",
      "metadata": {
        "id": "bDXprSFYFihf"
      },
      "source": [
        "### According to element values"
      ]
    },
    {
      "cell_type": "markdown",
      "metadata": {
        "id": "eD7Qo6k0Fihf"
      },
      "source": [
        "#### Null Matrix"
      ]
    },
    {
      "cell_type": "markdown",
      "metadata": {
        "id": "2XZjZFpzFihf"
      },
      "source": [
        "A Null Matrix is a matrix that has no elements. It is always a subspace of any vector or matrix."
      ]
    },
    {
      "cell_type": "code",
      "metadata": {
        "id": "KR3LdkD3Fihf"
      },
      "source": [
        "def describe_mat(matrix):\n",
        "    if matrix.size > 0:\n",
        "        is_square = True if matrix.shape[0] == matrix.shape[1] else False \n",
        "        print(f'Matrix:\\n{matrix}\\n\\nShape:\\t{matrix.shape}\\nRank:\\t{matrix.ndim}\\nIs Square: {is_square}\\n')\n",
        "    else:\n",
        "        print('Matrix is Null')"
      ],
      "execution_count": null,
      "outputs": []
    },
    {
      "cell_type": "code",
      "metadata": {
        "id": "v79Z37rnFihf",
        "outputId": "c0a5bef5-85c5-4a41-e874-f78f5088c1f3"
      },
      "source": [
        "null_mat = np.array([])\n",
        "describe_mat(null_mat)"
      ],
      "execution_count": null,
      "outputs": [
        {
          "output_type": "stream",
          "text": [
            "Matrix is Null\n"
          ],
          "name": "stdout"
        }
      ]
    },
    {
      "cell_type": "markdown",
      "metadata": {
        "id": "QO6DJ1rnFihf"
      },
      "source": [
        "#### Zero Matrix"
      ]
    },
    {
      "cell_type": "markdown",
      "metadata": {
        "id": "k_atocDiFihf"
      },
      "source": [
        "A zero matrix can be any rectangular matrix but with all elements having a value of 0."
      ]
    },
    {
      "cell_type": "code",
      "metadata": {
        "id": "8mRU3aBGFihf",
        "outputId": "7249eef1-2f1a-431c-b6a7-d7ef2dad6af9"
      },
      "source": [
        "zero_mat_row = np.zeros((1,2))\n",
        "zero_mat_sqr = np.zeros((2,2))\n",
        "zero_mat_rct = np.zeros((3,2))\n",
        "\n",
        "print(f'Zero Row Matrix: \\n{zero_mat_row}')\n",
        "print(f'Zero Square Matrix: \\n{zero_mat_sqr}')\n",
        "print(f'Zero Rectangular Matrix: \\n{zero_mat_rct}')"
      ],
      "execution_count": null,
      "outputs": [
        {
          "output_type": "stream",
          "text": [
            "Zero Row Matrix: \n",
            "[[0. 0.]]\n",
            "Zero Square Matrix: \n",
            "[[0. 0.]\n",
            " [0. 0.]]\n",
            "Zero Rectangular Matrix: \n",
            "[[0. 0.]\n",
            " [0. 0.]\n",
            " [0. 0.]]\n"
          ],
          "name": "stdout"
        }
      ]
    },
    {
      "cell_type": "markdown",
      "metadata": {
        "id": "oN_Gpls7Fihf"
      },
      "source": [
        "#### Ones Matrix"
      ]
    },
    {
      "cell_type": "markdown",
      "metadata": {
        "id": "1CqmLvyWFihf"
      },
      "source": [
        "A ones matrix, just like the zero matrix, can be any rectangular matrix but all of its elements are 1s instead of 0s."
      ]
    },
    {
      "cell_type": "code",
      "metadata": {
        "id": "1to4yPk7Fihf",
        "outputId": "6f6bb447-d9bc-453f-be0e-16667300fc6b"
      },
      "source": [
        "ones_mat_row = np.ones((1,2))\n",
        "ones_mat_sqr = np.ones((2,2))\n",
        "ones_mat_rct = np.ones((3,2))\n",
        "\n",
        "print(f'Ones Row Matrix: \\n{ones_mat_row}')\n",
        "print(f'Ones Square Matrix: \\n{ones_mat_sqr}')\n",
        "print(f'Ones Rectangular Matrix: \\n{ones_mat_rct}')"
      ],
      "execution_count": null,
      "outputs": [
        {
          "output_type": "stream",
          "text": [
            "Ones Row Matrix: \n",
            "[[1. 1.]]\n",
            "Ones Square Matrix: \n",
            "[[1. 1.]\n",
            " [1. 1.]]\n",
            "Ones Rectangular Matrix: \n",
            "[[1. 1.]\n",
            " [1. 1.]\n",
            " [1. 1.]]\n"
          ],
          "name": "stdout"
        }
      ]
    },
    {
      "cell_type": "markdown",
      "metadata": {
        "id": "2O8_R2xVFihf"
      },
      "source": [
        "#### Diagonal Matrix"
      ]
    },
    {
      "cell_type": "markdown",
      "metadata": {
        "id": "7tPrgObnFihf"
      },
      "source": [
        "A diagonal matrix is a square matrix that has values only at the diagonal of the matrix. "
      ]
    },
    {
      "cell_type": "code",
      "metadata": {
        "id": "bEHZ91r6Fihf",
        "outputId": "8cc992a8-710d-4a85-abb3-9cb80a6c2cd3"
      },
      "source": [
        "np.array([\n",
        "    [2,0,0],\n",
        "    [0,3,0],\n",
        "    [0,0,5]\n",
        "])\n",
        "# a[1,1], a[2,2], a[3,3], ... a[n-1,n-1]"
      ],
      "execution_count": null,
      "outputs": [
        {
          "output_type": "execute_result",
          "data": {
            "text/plain": [
              "array([[2, 0, 0],\n",
              "       [0, 3, 0],\n",
              "       [0, 0, 5]])"
            ]
          },
          "metadata": {
            "tags": []
          },
          "execution_count": 53
        }
      ]
    },
    {
      "cell_type": "code",
      "metadata": {
        "id": "BaCL1WUQFihf",
        "outputId": "2f35301e-561b-402a-c761-714980fead6d"
      },
      "source": [
        "d = np.diag([2,3,5,7])\n",
        "np.diag(d).shape == d.shape[0] == d.shape[1]\n"
      ],
      "execution_count": null,
      "outputs": [
        {
          "output_type": "execute_result",
          "data": {
            "text/plain": [
              "False"
            ]
          },
          "metadata": {
            "tags": []
          },
          "execution_count": 54
        }
      ]
    },
    {
      "cell_type": "markdown",
      "metadata": {
        "id": "kSyuv3uaFihg"
      },
      "source": [
        "#### Identity Matrix"
      ]
    },
    {
      "cell_type": "markdown",
      "metadata": {
        "id": "v41Wz7PHFihg"
      },
      "source": [
        "An identity matrix is a special diagonal matrix in which the values at the diagonal are ones."
      ]
    },
    {
      "cell_type": "code",
      "metadata": {
        "id": "BHCO7lldFihg",
        "outputId": "e1f6dcfe-1456-450b-c679-5e990b0557b2"
      },
      "source": [
        "np.eye(5)"
      ],
      "execution_count": null,
      "outputs": [
        {
          "output_type": "execute_result",
          "data": {
            "text/plain": [
              "array([[1., 0., 0., 0., 0.],\n",
              "       [0., 1., 0., 0., 0.],\n",
              "       [0., 0., 1., 0., 0.],\n",
              "       [0., 0., 0., 1., 0.],\n",
              "       [0., 0., 0., 0., 1.]])"
            ]
          },
          "metadata": {
            "tags": []
          },
          "execution_count": 55
        }
      ]
    },
    {
      "cell_type": "code",
      "metadata": {
        "id": "8Bb_xRLIFihg",
        "outputId": "eb2ddd59-fcfc-4f6d-a244-19c65f6ff535"
      },
      "source": [
        "np.identity(5)"
      ],
      "execution_count": null,
      "outputs": [
        {
          "output_type": "execute_result",
          "data": {
            "text/plain": [
              "array([[1., 0., 0., 0., 0.],\n",
              "       [0., 1., 0., 0., 0.],\n",
              "       [0., 0., 1., 0., 0.],\n",
              "       [0., 0., 0., 1., 0.],\n",
              "       [0., 0., 0., 0., 1.]])"
            ]
          },
          "metadata": {
            "tags": []
          },
          "execution_count": 56
        }
      ]
    },
    {
      "cell_type": "markdown",
      "metadata": {
        "id": "HKJo9zpKFihg"
      },
      "source": [
        "#### Upper Triangular Matrix"
      ]
    },
    {
      "cell_type": "markdown",
      "metadata": {
        "id": "7IkPaBG0Fihg"
      },
      "source": [
        "An upper triangular matrix is a matrix that has no values below the diagonal. "
      ]
    },
    {
      "cell_type": "code",
      "metadata": {
        "id": "dgOq47LFFihg",
        "outputId": "d09fa10d-967a-4cd7-de1c-9b2320fdd9f5"
      },
      "source": [
        "np.array([\n",
        "    [1,2,3],\n",
        "    [0,3,1],\n",
        "    [0,0,5]\n",
        "])"
      ],
      "execution_count": null,
      "outputs": [
        {
          "output_type": "execute_result",
          "data": {
            "text/plain": [
              "array([[1, 2, 3],\n",
              "       [0, 3, 1],\n",
              "       [0, 0, 5]])"
            ]
          },
          "metadata": {
            "tags": []
          },
          "execution_count": 57
        }
      ]
    },
    {
      "cell_type": "markdown",
      "metadata": {
        "id": "RXwgcbl_Fihg"
      },
      "source": [
        "#### Lower Triangular Matrix"
      ]
    },
    {
      "cell_type": "markdown",
      "metadata": {
        "id": "sLREN5NcFihg"
      },
      "source": [
        "A lower triangular matrix is a matrix that has no values above the diagonal."
      ]
    },
    {
      "cell_type": "code",
      "metadata": {
        "id": "yLCzTG2gFihg",
        "outputId": "599ed0da-b408-44a3-81a0-e7388229af7a"
      },
      "source": [
        "np.array([\n",
        "    [1,0,0],\n",
        "    [5,3,0],\n",
        "    [7,8,5]\n",
        "])"
      ],
      "execution_count": null,
      "outputs": [
        {
          "output_type": "execute_result",
          "data": {
            "text/plain": [
              "array([[1, 0, 0],\n",
              "       [5, 3, 0],\n",
              "       [7, 8, 5]])"
            ]
          },
          "metadata": {
            "tags": []
          },
          "execution_count": 58
        }
      ]
    },
    {
      "cell_type": "markdown",
      "metadata": {
        "id": "K0hzX308Fihg"
      },
      "source": [
        "## Practice"
      ]
    },
    {
      "cell_type": "markdown",
      "metadata": {
        "id": "tGoP2tNtFihg"
      },
      "source": [
        "1. Given the linear combination below, try to create a corresponding matrix representing it."
      ]
    },
    {
      "cell_type": "markdown",
      "metadata": {
        "id": "8tX89qYiFihg"
      },
      "source": [
        "$$\\theta = 5x + 3y - z$$"
      ]
    },
    {
      "cell_type": "code",
      "metadata": {
        "id": "5d1xgLHRFihg",
        "outputId": "72c445cd-1bbf-4e83-e34c-b6c9027b6a39"
      },
      "source": [
        "theta = np.array([\n",
        "              [5,3,-1],\n",
        "])\n",
        "describe_mat(theta)"
      ],
      "execution_count": null,
      "outputs": [
        {
          "output_type": "stream",
          "text": [
            "Matrix:\n",
            "[[ 5  3 -1]]\n",
            "\n",
            "Shape:\t(1, 3)\n",
            "Rank:\t2\n",
            "Is Square: False\n",
            "\n"
          ],
          "name": "stdout"
        }
      ]
    },
    {
      "cell_type": "markdown",
      "metadata": {
        "id": "1yg-z4rlFihg"
      },
      "source": [
        "2. Given the system of linear combinations below, try to encode it as a matrix. Also describe the matrix."
      ]
    },
    {
      "cell_type": "markdown",
      "metadata": {
        "id": "Csc0_Nz2Fihg"
      },
      "source": [
        "$$\n",
        "A = \\left\\{\\begin{array}\n",
        "5x_1 + 2x_2 +x_3\\\\\n",
        "4x_2 - x_3\\\\\n",
        "10x_3\n",
        "\\end{array}\\right.\n",
        "$$"
      ]
    },
    {
      "cell_type": "code",
      "metadata": {
        "id": "VEUJPpnVFihg",
        "outputId": "60b4042a-70ad-45bf-8faf-45fe231655fc"
      },
      "source": [
        "number2_mat = np.array([\n",
        "             [1,2,1],\n",
        "             [0,4,-1],\n",
        "             [0,0,10]\n",
        "])\n",
        "describe_mat(number2_mat)"
      ],
      "execution_count": null,
      "outputs": [
        {
          "output_type": "stream",
          "text": [
            "Matrix:\n",
            "[[ 1  2  1]\n",
            " [ 0  4 -1]\n",
            " [ 0  0 10]]\n",
            "\n",
            "Shape:\t(3, 3)\n",
            "Rank:\t2\n",
            "Is Square: True\n",
            "\n"
          ],
          "name": "stdout"
        }
      ]
    },
    {
      "cell_type": "markdown",
      "metadata": {
        "id": "M-nfkNMBFihg"
      },
      "source": [
        "3. Given the matrix below, express it as a linear combination in a markdown."
      ]
    },
    {
      "cell_type": "code",
      "metadata": {
        "id": "_yeePIF7Fihg"
      },
      "source": [
        "G = np.array([\n",
        "    [1,7,8],\n",
        "    [2,2,2],\n",
        "    [4,6,7]\n",
        "])\n"
      ],
      "execution_count": null,
      "outputs": []
    },
    {
      "cell_type": "markdown",
      "metadata": {
        "id": "sxQ71Cr6Fihg"
      },
      "source": [
        "$$G = \n",
        "\\begin{bmatrix}1&7&8\\\\2&2&2\\\\4&6&7\n",
        "\\end{bmatrix}$$"
      ]
    },
    {
      "cell_type": "markdown",
      "metadata": {
        "id": "jLdJUt5oFihh"
      },
      "source": [
        "$$G=\\left\\{\\begin{array} 1g_1+7g_2+8g_3 \\\\2g_1+2g_2+2g_3\\\\4g_1+6g_2+7g_3\n",
        "\\end{array}\\right.$$"
      ]
    },
    {
      "cell_type": "markdown",
      "metadata": {
        "id": "0sZ7IR7FFihh"
      },
      "source": [
        "4. Given the matrix below, display the output as a LaTeX makdown also express it as a system of linear combinations."
      ]
    },
    {
      "cell_type": "code",
      "metadata": {
        "id": "frFwVdjIFihh",
        "outputId": "71a6f1a2-55c6-4f50-e271-bc05a215d954"
      },
      "source": [
        "H = np.tril(G)\n",
        "H"
      ],
      "execution_count": null,
      "outputs": [
        {
          "output_type": "execute_result",
          "data": {
            "text/plain": [
              "array([[1, 0, 0],\n",
              "       [2, 2, 0],\n",
              "       [4, 6, 7]])"
            ]
          },
          "metadata": {
            "tags": []
          },
          "execution_count": 62
        }
      ]
    },
    {
      "cell_type": "markdown",
      "metadata": {
        "id": "pNCVrM50Fihh"
      },
      "source": [
        "$$\n",
        "H = \\left\\{\\begin{array}\n",
        "1x_1\\\\\n",
        "2x_1+ 2y_2\\\\\n",
        "4x_1+ 6y_2 +7z_3\n",
        "\\end{array}\\right.\n",
        "$$"
      ]
    },
    {
      "cell_type": "markdown",
      "metadata": {
        "id": "AfD0IwA0Fihh"
      },
      "source": [
        "$$\\begin{equation*}\n",
        "H = \n",
        "\\begin{bmatrix}\n",
        "1 & 0 & 0 \\\\\n",
        "2 & 2 & 0 \\\\\n",
        "4 & 6 & 7\n",
        "\\end{bmatrix}\n",
        "\\end{equation*}$$"
      ]
    },
    {
      "cell_type": "markdown",
      "metadata": {
        "id": "bUxy8oHxFihh"
      },
      "source": [
        "# Matrix Algebra"
      ]
    },
    {
      "cell_type": "markdown",
      "metadata": {
        "id": "Ovxj8_ddFihh"
      },
      "source": [
        "### Addition"
      ]
    },
    {
      "cell_type": "code",
      "metadata": {
        "id": "gOuZhmIDFihh",
        "outputId": "db8d67e7-650a-4209-ac0f-8e09d9e416bb"
      },
      "source": [
        "A = np.array([\n",
        "    [1,2],\n",
        "    [2,3],\n",
        "    [4,1]\n",
        "])\n",
        "B = np.array([\n",
        "    [2,2],\n",
        "    [0,0],\n",
        "    [1,1]\n",
        "])\n",
        "A+B"
      ],
      "execution_count": null,
      "outputs": [
        {
          "output_type": "execute_result",
          "data": {
            "text/plain": [
              "array([[3, 4],\n",
              "       [2, 3],\n",
              "       [5, 2]])"
            ]
          },
          "metadata": {
            "tags": []
          },
          "execution_count": 63
        }
      ]
    },
    {
      "cell_type": "code",
      "metadata": {
        "id": "U39BQnESFihh",
        "outputId": "cca32819-d62d-468c-c086-ea16f2a7055f"
      },
      "source": [
        "2+A ##Broadcasting\n",
        "# 2*np.ones(A.shape)+A"
      ],
      "execution_count": null,
      "outputs": [
        {
          "output_type": "execute_result",
          "data": {
            "text/plain": [
              "array([[3, 4],\n",
              "       [4, 5],\n",
              "       [6, 3]])"
            ]
          },
          "metadata": {
            "tags": []
          },
          "execution_count": 64
        }
      ]
    },
    {
      "cell_type": "markdown",
      "metadata": {
        "id": "B5f5jrzDFihh"
      },
      "source": [
        "### Subtraction"
      ]
    },
    {
      "cell_type": "code",
      "metadata": {
        "id": "QYhrevJ0Fihh",
        "outputId": "7c61a3be-d7c9-49f5-848b-1d9a38d305f2"
      },
      "source": [
        "A-B"
      ],
      "execution_count": null,
      "outputs": [
        {
          "output_type": "execute_result",
          "data": {
            "text/plain": [
              "array([[-1,  0],\n",
              "       [ 2,  3],\n",
              "       [ 3,  0]])"
            ]
          },
          "metadata": {
            "tags": []
          },
          "execution_count": 65
        }
      ]
    },
    {
      "cell_type": "code",
      "metadata": {
        "id": "ik3rGNEpFihh",
        "outputId": "4f796914-41e8-4069-ace7-e2b6dbba91ac"
      },
      "source": [
        "3-B == 3*np.ones(B.shape)-B"
      ],
      "execution_count": null,
      "outputs": [
        {
          "output_type": "execute_result",
          "data": {
            "text/plain": [
              "array([[ True,  True],\n",
              "       [ True,  True],\n",
              "       [ True,  True]])"
            ]
          },
          "metadata": {
            "tags": []
          },
          "execution_count": 66
        }
      ]
    },
    {
      "cell_type": "markdown",
      "metadata": {
        "id": "VwRPcCZSFihh"
      },
      "source": [
        "### Element-wise Multiplication"
      ]
    },
    {
      "cell_type": "code",
      "metadata": {
        "id": "nXcyd0dkFihh",
        "outputId": "b04507e9-1b22-43b5-b22c-3da6d1284494"
      },
      "source": [
        "A*B\n",
        "np.multiply(A,B)"
      ],
      "execution_count": null,
      "outputs": [
        {
          "output_type": "execute_result",
          "data": {
            "text/plain": [
              "array([[2, 4],\n",
              "       [0, 0],\n",
              "       [4, 1]])"
            ]
          },
          "metadata": {
            "tags": []
          },
          "execution_count": 67
        }
      ]
    },
    {
      "cell_type": "code",
      "metadata": {
        "id": "A5YYC6NEFihh",
        "outputId": "4a41db7c-5fd5-4e13-c4ca-0625cf9c9c9d"
      },
      "source": [
        "2*A"
      ],
      "execution_count": null,
      "outputs": [
        {
          "output_type": "execute_result",
          "data": {
            "text/plain": [
              "array([[2, 4],\n",
              "       [4, 6],\n",
              "       [8, 2]])"
            ]
          },
          "metadata": {
            "tags": []
          },
          "execution_count": 68
        }
      ]
    },
    {
      "cell_type": "code",
      "metadata": {
        "id": "hiOR6PYTFihh",
        "outputId": "689d6857-247d-4d2d-8a57-f5371ee82d3a"
      },
      "source": [
        "alpha=10**-10\n",
        "A/(alpha+B)"
      ],
      "execution_count": null,
      "outputs": [
        {
          "output_type": "execute_result",
          "data": {
            "text/plain": [
              "array([[5.e-01, 1.e+00],\n",
              "       [2.e+10, 3.e+10],\n",
              "       [4.e+00, 1.e+00]])"
            ]
          },
          "metadata": {
            "tags": []
          },
          "execution_count": 69
        }
      ]
    },
    {
      "cell_type": "code",
      "metadata": {
        "id": "UeTAMO93Fihi",
        "outputId": "54d823b2-a4e7-49e8-fda8-3fc39ff137b0"
      },
      "source": [
        "np.add(A,B)"
      ],
      "execution_count": null,
      "outputs": [
        {
          "output_type": "execute_result",
          "data": {
            "text/plain": [
              "array([[3, 4],\n",
              "       [2, 3],\n",
              "       [5, 2]])"
            ]
          },
          "metadata": {
            "tags": []
          },
          "execution_count": 70
        }
      ]
    },
    {
      "cell_type": "markdown",
      "metadata": {
        "id": "HHhvxfvIFihi"
      },
      "source": [
        "## Activity"
      ]
    },
    {
      "cell_type": "markdown",
      "metadata": {
        "id": "xvpjgTRYFihi"
      },
      "source": [
        "### Task 1"
      ]
    },
    {
      "cell_type": "markdown",
      "metadata": {
        "id": "edlHqE7HFihi"
      },
      "source": [
        "Create a function named `mat_desc()` that througouhly describes a matrix, it should: <br>\n",
        "1. Displays the shape, size, and rank of the matrix. <br>\n",
        "2. Displays whether the matrix is square or non-square. <br>\n",
        "3. Displays whether the matrix is an empty matrix. <br>\n",
        "4. Displays if the matrix is an identity, ones, or zeros matrix <br>\n",
        "   \n",
        "Use 5 sample matrices in which their shapes are not lower than $(3,3)$.\n",
        "In your methodology, create a flowchart discuss the functions and methods you have done. Present your results in the results section showing the description of each matrix you have declared."
      ]
    },
    {
      "cell_type": "code",
      "metadata": {
        "id": "D-nGtoo_Fihi"
      },
      "source": [
        "\n",
        "def mat_desc(matrix):\n",
        "    \n",
        "    print(f'{matrix}\\n\\n'\n",
        "        f'The shape of the matrix is: {matrix.shape}\\n'\n",
        "        f'The size of the matrix is: {np.product(matrix.shape)}\\n'\n",
        "        f'The rank of the matrix is: {matrix.ndim}')\n",
        "     \n",
        "    if matrix.size > 0:\n",
        "        \n",
        "        is_ones = True if np.all((matrix == 1)) else False \n",
        "        \n",
        "        is_zero = True if np.all((matrix == 0)) else False \n",
        "        \n",
        "        is_square = True if matrix.shape[0] == matrix.shape[1] else False\n",
        "        \n",
        "        is_identity = True if matrix.shape[0] == matrix.shape[1] and np.allclose(matrix, np.eye(matrix.shape[0])) else False\n",
        "        \n",
        "        print(f'Is the matrix a ones matrix?: {is_ones}\\n'\n",
        "        f'Is the matrix a zero matrix?: {is_zero}\\n'\n",
        "        f'Is the matrix a square?: {is_square}\\n'\n",
        "        f'Is the matrix an identity matrix?: {is_identity}\\n\\n'\n",
        "        )\n",
        "    else:\n",
        "        print(\"The Matrix is Null or Empty\")"
      ],
      "execution_count": 1,
      "outputs": []
    },
    {
      "cell_type": "code",
      "metadata": {
        "id": "AN6CdvnnFihi"
      },
      "source": [
        "\n",
        "mat_1 = np.array([\n",
        "    [1, 0, 0],\n",
        "    [0, 1, 0],\n",
        "    [0, 0, 1]\n",
        "])\n",
        "mat_2 = np.array([\n",
        "    [0, 0, 0],\n",
        "    [0, 0, 0],\n",
        "    [0, 0, 0]\n",
        "])\n",
        "mat_3 = np.array([\n",
        "    [1, 1, 1],\n",
        "    [1, 1, 1],\n",
        "    [1, 1, 1]\n",
        "])\n",
        "mat_4 = np.array([\n",
        "    [1, 1, 1, 1],\n",
        "    [1, 1, 1, 1],\n",
        "    [1, 1, 1, 1]\n",
        "])\n",
        "mat_5 = np.array([\n",
        "    [2, 3, 3, 5],\n",
        "    [4, 5, 4, 6],\n",
        "    [6, 7, 4, 2]\n",
        "])"
      ],
      "execution_count": null,
      "outputs": []
    },
    {
      "cell_type": "code",
      "metadata": {
        "id": "fphJJXDFFihi",
        "outputId": "66a3efc5-14a5-4812-fd54-c406f5256dce"
      },
      "source": [
        "\n",
        "print(\"Matrix 1:\")\n",
        "mat_desc(mat_1)\n",
        "print(\"Matrix 2:\")\n",
        "mat_desc(mat_2)\n",
        "print(\"Matrix 3:\")\n",
        "mat_desc(mat_3)\n",
        "print(\"Matrix 4:\")\n",
        "mat_desc(mat_4)\n",
        "print(\"Matrix 5:\")\n",
        "mat_desc(mat_5)"
      ],
      "execution_count": null,
      "outputs": [
        {
          "output_type": "stream",
          "text": [
            "Matrix 1:\n",
            "[[1 0 0]\n",
            " [0 1 0]\n",
            " [0 0 1]]\n",
            "\n",
            "The shape of the matrix is: (3, 3)\n",
            "The size of the matrix is: 9\n",
            "The rank of the matrix is: 2\n",
            "Is the matrix a ones matrix?: False\n",
            "Is the matrix a zero matrix?: False\n",
            "Is the matrix a square?: True\n",
            "Is the matrix an identity matrix?: True\n",
            "\n",
            "\n",
            "Matrix 2:\n",
            "[[0 0 0]\n",
            " [0 0 0]\n",
            " [0 0 0]]\n",
            "\n",
            "The shape of the matrix is: (3, 3)\n",
            "The size of the matrix is: 9\n",
            "The rank of the matrix is: 2\n",
            "Is the matrix a ones matrix?: False\n",
            "Is the matrix a zero matrix?: True\n",
            "Is the matrix a square?: True\n",
            "Is the matrix an identity matrix?: False\n",
            "\n",
            "\n",
            "Matrix 3:\n",
            "[[1 1 1]\n",
            " [1 1 1]\n",
            " [1 1 1]]\n",
            "\n",
            "The shape of the matrix is: (3, 3)\n",
            "The size of the matrix is: 9\n",
            "The rank of the matrix is: 2\n",
            "Is the matrix a ones matrix?: True\n",
            "Is the matrix a zero matrix?: False\n",
            "Is the matrix a square?: True\n",
            "Is the matrix an identity matrix?: False\n",
            "\n",
            "\n",
            "Matrix 4:\n",
            "[[1 1 1 1]\n",
            " [1 1 1 1]\n",
            " [1 1 1 1]]\n",
            "\n",
            "The shape of the matrix is: (3, 4)\n",
            "The size of the matrix is: 12\n",
            "The rank of the matrix is: 2\n",
            "Is the matrix a ones matrix?: True\n",
            "Is the matrix a zero matrix?: False\n",
            "Is the matrix a square?: False\n",
            "Is the matrix an identity matrix?: False\n",
            "\n",
            "\n",
            "Matrix 5:\n",
            "[[2 3 3 5]\n",
            " [4 5 4 6]\n",
            " [6 7 4 2]]\n",
            "\n",
            "The shape of the matrix is: (3, 4)\n",
            "The size of the matrix is: 12\n",
            "The rank of the matrix is: 2\n",
            "Is the matrix a ones matrix?: False\n",
            "Is the matrix a zero matrix?: False\n",
            "Is the matrix a square?: False\n",
            "Is the matrix an identity matrix?: False\n",
            "\n",
            "\n"
          ],
          "name": "stdout"
        }
      ]
    },
    {
      "cell_type": "markdown",
      "metadata": {
        "id": "SSApzx1iFihi"
      },
      "source": [
        "### Task 2"
      ]
    },
    {
      "cell_type": "markdown",
      "metadata": {
        "id": "MxxHfpQUFihi"
      },
      "source": [
        "Create a function named `mat_operations()` that takes in two matrices or scalars a input parameters it should:<br>\n",
        " 1. Display the description of each matrix, if the parameter is a scalar it tells that it is a scalar rather than describing it as a matrix.\n",
        " 2. Determines if the matrices are viable for operation and returns your own error message if they are not viable.\n",
        " 3. Returns the sum of the matrices.\n",
        " 4. Returns the difference of the matrices.\n",
        " 5. Returns the element-wise multiplication of the matrices.\n",
        " 6. Returns the element-wise division of the matrices.\n",
        "\n",
        "Use 5 sample matrices in which their shapes are not lower than $(3,3)$.\n",
        "In your methodology, create a flowchart discuss the functions and methods you have done. Present your results in the results section showing the description of each matrix you have declared."
      ]
    },
    {
      "cell_type": "code",
      "metadata": {
        "id": "vnvSobkMFihi"
      },
      "source": [
        "\n",
        "def mat_operations(mat1,mat2):\n",
        "    alpha = 10**-10\n",
        "    \n",
        "    if np.isscalar(mat1):\n",
        "        print(\"The first parameter is a scalar\")\n",
        "    else:\n",
        "        print(f'1st matrix:\\n {mat1}\\n\\n'\n",
        "        f'The shape of the 1st matrix is: {mat1.shape}\\n'\n",
        "        f'The size of the 1st matrix is: {np.product(mat1.shape)}\\n'\n",
        "        f'The rank of the 1st matrix is: {mat1.ndim}')\n",
        "        if mat1.size > 0:\n",
        "           \n",
        "            is_ones = True if np.all((mat1 == 1)) else False \n",
        "            #\n",
        "            is_zero = True if np.all((mat1 == 0)) else False \n",
        "           \n",
        "            is_square = True if mat1.shape[0] == mat1.shape[1] else False\n",
        "           \n",
        "            is_identity = True if mat1.shape[0] == mat1.shape[1] and np.allclose(mat1, np.eye(mat1.shape[0])) else False\n",
        "            \n",
        "            print(f'Is the matrix a ones matrix?: {is_ones}\\n'\n",
        "            f'Is the matrix a zero matrix?: {is_zero}\\n'\n",
        "            f'Is the matrix a square?: {is_square}\\n'\n",
        "            f'Is the matrix an identity matrix?: {is_identity}\\n\\n'\n",
        "            )\n",
        "        else:\n",
        "            print(\"The Matrix is Null or Empty\")\n",
        "            \n",
        "    if np.isscalar(mat2):\n",
        "        print(\"The second parameter is a scalar\\n\")\n",
        "    else:\n",
        "        print(f'2nd matrix:\\n {mat2}\\n\\n'\n",
        "        f'The shape of the 2nd matrix is: {mat2.shape}\\n'\n",
        "        f'The size of the 2nd matrix is: {np.product(mat2.shape)}\\n'\n",
        "        f'The rank of the 2nd matrix is: {mat2.ndim}')\n",
        "        if mat2.size > 0:\n",
        "            \n",
        "            is_ones = True if np.all((mat2 == 1)) else False \n",
        "            \n",
        "            is_zero = True if np.all((mat2 == 0)) else False \n",
        "            \n",
        "            is_square = True if mat2.shape[0] == mat2.shape[1] else False\n",
        "           \n",
        "            is_identity = True if mat2.shape[0] == mat2.shape[1] and np.allclose(mat2, np.eye(mat2.shape[0])) else False\n",
        "          \n",
        "            print(f'Is the matrix a ones matrix?: {is_ones}\\n'\n",
        "            f'Is the matrix a zero matrix?: {is_zero}\\n'\n",
        "            f'Is the matrix a square?: {is_square}\\n'\n",
        "            f'Is the matrix an identity matrix?: {is_identity}\\n\\n')\n",
        "        else:\n",
        "            print(\"The Matrix is Null or Empty\")\n",
        "            \n",
        "    if np.isscalar(mat1) == False and np.isscalar(mat2) == False:\n",
        "        if (mat1.shape == mat2.shape):\n",
        "            print(f'The sum of the matrices is: \\n{np.sum(np.add(mat1,mat2))}\\n'\n",
        "                f'\\nThe difference of the matrices is: \\n{np.diff(np.subtract(mat1,mat2))}\\n'\n",
        "                f'\\nThe element-wise multiplication of the matrices is: \\n{np.multiply(mat1,mat2)}\\n'\n",
        "                f'\\nThe element-wise division of the matrices is: \\n{np.divide(mat1,mat2+alpha)}\\n')\n",
        "        else:\n",
        "            print(\"The matrices aren't viable for operation\\n\")\n",
        "    else:\n",
        "        print(\"The parameters aren't viable for matrix operation\\n\")"
      ],
      "execution_count": null,
      "outputs": []
    },
    {
      "cell_type": "code",
      "metadata": {
        "id": "mdPuZZ36Fihi"
      },
      "source": [
        "\n",
        "mat_1 = np.array([\n",
        "    [8, 7, 5],\n",
        "    [2, 5, 1],\n",
        "    [5, 4, 2]\n",
        "])\n",
        "mat_2 = np.array([\n",
        "    [3, 4, 5],\n",
        "    [3, 2, 1],\n",
        "    [8, 0, 2]\n",
        "])\n",
        "\n",
        "mat_3 = np.array([\n",
        "    [5, 1, 2],\n",
        "    [10, 5, 4],\n",
        "    [3, 7, 8]\n",
        "])\n",
        "\n",
        "mat_4 =  np.array([\n",
        "    [3, 1, 2],\n",
        "    [1, 6, 4],\n",
        "    [3, 2, 8]\n",
        "])\n",
        "mat_5 = np.array([\n",
        "    [2, 3, 3, 5],\n",
        "    [4, 5, 4, 6],\n",
        "    [6, 7, 4, 2]\n",
        "])\n"
      ],
      "execution_count": null,
      "outputs": []
    },
    {
      "cell_type": "code",
      "metadata": {
        "id": "EwCOYY6KFihi",
        "outputId": "b386f054-7e54-43da-961a-d9c3618feb23"
      },
      "source": [
        "\n",
        "print(\"1st pair of matrices:\\n\")\n",
        "mat_operations(mat_1,mat_2)\n",
        "print(\"\\n2nd pair of matrices:\\n\")\n",
        "mat_operations(mat_3,mat_4)\n",
        "print(\"\\n3rd pair of matrices:\\n\")\n",
        "mat_operations(mat_1,mat_5)"
      ],
      "execution_count": null,
      "outputs": [
        {
          "output_type": "stream",
          "text": [
            "1st pair of matrices:\n",
            "\n",
            "1st matrix:\n",
            " [[8 7 5]\n",
            " [2 5 1]\n",
            " [5 4 2]]\n",
            "\n",
            "The shape of the 1st matrix is: (3, 3)\n",
            "The size of the 1st matrix is: 9\n",
            "The rank of the 1st matrix is: 2\n",
            "Is the matrix a ones matrix?: False\n",
            "Is the matrix a zero matrix?: False\n",
            "Is the matrix a square?: True\n",
            "Is the matrix an identity matrix?: False\n",
            "\n",
            "\n",
            "2nd matrix:\n",
            " [[3 4 5]\n",
            " [3 2 1]\n",
            " [8 0 2]]\n",
            "\n",
            "The shape of the 2nd matrix is: (3, 3)\n",
            "The size of the 2nd matrix is: 9\n",
            "The rank of the 2nd matrix is: 2\n",
            "Is the matrix a ones matrix?: False\n",
            "Is the matrix a zero matrix?: False\n",
            "Is the matrix a square?: True\n",
            "Is the matrix an identity matrix?: False\n",
            "\n",
            "\n",
            "The sum of the matrices is: \n",
            "67\n",
            "\n",
            "The difference of the matrices is: \n",
            "[[-2 -3]\n",
            " [ 4 -3]\n",
            " [ 7 -4]]\n",
            "\n",
            "The element-wise multiplication of the matrices is: \n",
            "[[24 28 25]\n",
            " [ 6 10  1]\n",
            " [40  0  4]]\n",
            "\n",
            "The element-wise division of the matrices is: \n",
            "[[2.66666667e+00 1.75000000e+00 1.00000000e+00]\n",
            " [6.66666667e-01 2.50000000e+00 1.00000000e+00]\n",
            " [6.25000000e-01 4.00000000e+10 1.00000000e+00]]\n",
            "\n",
            "\n",
            "2nd pair of matrices:\n",
            "\n",
            "1st matrix:\n",
            " [[ 5  1  2]\n",
            " [10  5  4]\n",
            " [ 3  7  8]]\n",
            "\n",
            "The shape of the 1st matrix is: (3, 3)\n",
            "The size of the 1st matrix is: 9\n",
            "The rank of the 1st matrix is: 2\n",
            "Is the matrix a ones matrix?: False\n",
            "Is the matrix a zero matrix?: False\n",
            "Is the matrix a square?: True\n",
            "Is the matrix an identity matrix?: False\n",
            "\n",
            "\n",
            "2nd matrix:\n",
            " [[3 1 2]\n",
            " [1 6 4]\n",
            " [3 2 8]]\n",
            "\n",
            "The shape of the 2nd matrix is: (3, 3)\n",
            "The size of the 2nd matrix is: 9\n",
            "The rank of the 2nd matrix is: 2\n",
            "Is the matrix a ones matrix?: False\n",
            "Is the matrix a zero matrix?: False\n",
            "Is the matrix a square?: True\n",
            "Is the matrix an identity matrix?: False\n",
            "\n",
            "\n",
            "The sum of the matrices is: \n",
            "75\n",
            "\n",
            "The difference of the matrices is: \n",
            "[[ -2   0]\n",
            " [-10   1]\n",
            " [  5  -5]]\n",
            "\n",
            "The element-wise multiplication of the matrices is: \n",
            "[[15  1  4]\n",
            " [10 30 16]\n",
            " [ 9 14 64]]\n",
            "\n",
            "The element-wise division of the matrices is: \n",
            "[[ 1.66666667  1.          1.        ]\n",
            " [10.          0.83333333  1.        ]\n",
            " [ 1.          3.5         1.        ]]\n",
            "\n",
            "\n",
            "3rd pair of matrices:\n",
            "\n",
            "1st matrix:\n",
            " [[8 7 5]\n",
            " [2 5 1]\n",
            " [5 4 2]]\n",
            "\n",
            "The shape of the 1st matrix is: (3, 3)\n",
            "The size of the 1st matrix is: 9\n",
            "The rank of the 1st matrix is: 2\n",
            "Is the matrix a ones matrix?: False\n",
            "Is the matrix a zero matrix?: False\n",
            "Is the matrix a square?: True\n",
            "Is the matrix an identity matrix?: False\n",
            "\n",
            "\n",
            "2nd matrix:\n",
            " [[2 3 3 5]\n",
            " [4 5 4 6]\n",
            " [6 7 4 2]]\n",
            "\n",
            "The shape of the 2nd matrix is: (3, 4)\n",
            "The size of the 2nd matrix is: 12\n",
            "The rank of the 2nd matrix is: 2\n",
            "Is the matrix a ones matrix?: False\n",
            "Is the matrix a zero matrix?: False\n",
            "Is the matrix a square?: False\n",
            "Is the matrix an identity matrix?: False\n",
            "\n",
            "\n",
            "The matrices aren't viable for operation\n",
            "\n"
          ],
          "name": "stdout"
        }
      ]
    },
    {
      "cell_type": "markdown",
      "metadata": {
        "id": "vitp9pZ_Fihi"
      },
      "source": [
        "## Conclusion"
      ]
    },
    {
      "cell_type": "markdown",
      "metadata": {
        "id": "IFdlsS5TFihi"
      },
      "source": [
        "For your conclusion synthesize the concept and application of the laboratory. Briefly discuss what you have learned and achieved in this activity. Also answer the question: \"how can matrix operations solve problems in agriculture?\"."
      ]
    }
  ]
}